{
 "cells": [
  {
   "cell_type": "markdown",
   "metadata": {},
   "source": [
    "## XO game\n",
    "## Name: Mohammad Ashraf"
   ]
  },
  {
   "cell_type": "code",
   "execution_count": 1,
   "metadata": {},
   "outputs": [],
   "source": [
    "from IPython.display import clear_output"
   ]
  },
  {
   "cell_type": "code",
   "execution_count": 2,
   "metadata": {},
   "outputs": [],
   "source": [
    "def showBoard(N):\n",
    "    clear_output()\n",
    "    print(f'''\n",
    "\n",
    "    ___________________________________________\n",
    "   |             |                |             |\n",
    "   | \\t{N[1]}\\t |\\t {N[2]}\\t  |\\t {N[3]}\\t|\n",
    "   |_____________|________________|_____________|\n",
    "   |             |                |             |\n",
    "   | \\t{N[4]}\\t |\\t {N[5]}\\t  |\\t {N[6]}\\t|\n",
    "   |_____________|________________|_____________|\n",
    "   |             |                |             |\n",
    "   | \\t{N[7]}\\t |\\t {N[8]}\\t  |\\t {N[9]}\\t|\n",
    "   |_____________|________________|_____________|\n",
    "   '''\n",
    "    )"
   ]
  },
  {
   "cell_type": "code",
   "execution_count": 3,
   "metadata": {},
   "outputs": [],
   "source": [
    "def checkWon(N,player):\n",
    "    return((N[1] == N[2] == N[3] == N[player]) or \n",
    "           (N[1] == N[4] == N[7] == N[player]) or \n",
    "           (N[1] == N[5] == N[9] == N[player])or\n",
    "           (N[2] == N[5] == N[8] == N[player]) or \n",
    "           (N[3] == N[6] == N[9] == N[player]) or\n",
    "           (N[3] == N[5] == N[7] == N[player]))"
   ]
  },
  {
   "cell_type": "code",
   "execution_count": 4,
   "metadata": {},
   "outputs": [],
   "source": [
    "def full_board_check(board):\n",
    "    for i in range(1,10):\n",
    "        if board[i] in [x for x in range(1,10)]:\n",
    "            return False\n",
    "    return True"
   ]
  },
  {
   "cell_type": "code",
   "execution_count": 5,
   "metadata": {},
   "outputs": [],
   "source": [
    "def replay():\n",
    "    choice = input(\"Do you want play again? Y or N: \")\n",
    "    choice.lower()\n",
    "    return choice == 'y'"
   ]
  },
  {
   "cell_type": "code",
   "execution_count": 6,
   "metadata": {},
   "outputs": [],
   "source": [
    "def play():\n",
    "    print(\"Welcome to XO game :)\\n\")\n",
    "    won = False\n",
    "    xo_dict = {\n",
    "        1:1,\n",
    "        2:2,\n",
    "        3:3,\n",
    "        4:4,\n",
    "        5:5,\n",
    "        6:6,\n",
    "        7:7,\n",
    "        8:8,\n",
    "        9:9\n",
    "    }\n",
    "\n",
    "    showBoard(xo_dict)\n",
    "    while won == False:\n",
    "\n",
    "        player_x = int(input(\"It's X turn now\\nPlease enter position: \"))\n",
    "        while player_x not in range(1,10) or xo_dict[player_x] == 'X' or xo_dict[player_x] == 'O':\n",
    "            player_x=int(input(\"You enetered an invalid position\\tplease try again\"))\n",
    "        xo_dict[player_x] = 'X'\n",
    "\n",
    "        showBoard(xo_dict)\n",
    "        if checkWon(xo_dict,player_x):\n",
    "            print(f'{xo_dict[player_x]} won')\n",
    "            won = True\n",
    "        else:\n",
    "            if full_board_check(xo_dict):\n",
    "                showBoard(xo_dict)\n",
    "                print(\"It's Draw :( :(\")\n",
    "                break\n",
    "            else:\n",
    "                player_o = int(input(\"It's O turn now\\nPlease enter position: \"))\n",
    "                while player_o not in range(1,10) or xo_dict[player_o] == 'X' or xo_dict[player_o] == 'O':\n",
    "                    player_o=int(input(\"You enetered an invalid position\\tplease try again\"))\n",
    "                xo_dict[player_o] = 'O'\n",
    "\n",
    "                showBoard(xo_dict)\n",
    "                if checkWon(xo_dict,player_o):\n",
    "                    print(f'{xo_dict[player_o]} won')\n",
    "                    won = True"
   ]
  },
  {
   "cell_type": "code",
   "execution_count": 9,
   "metadata": {
    "scrolled": true
   },
   "outputs": [
    {
     "name": "stdout",
     "output_type": "stream",
     "text": [
      "\n",
      "\n",
      "    ___________________________________________\n",
      "   |             |                |             |\n",
      "   | \tX\t |\t O\t  |\t X\t|\n",
      "   |_____________|________________|_____________|\n",
      "   |             |                |             |\n",
      "   | \tO\t |\t O\t  |\t X\t|\n",
      "   |_____________|________________|_____________|\n",
      "   |             |                |             |\n",
      "   | \tX\t |\t X\t  |\t O\t|\n",
      "   |_____________|________________|_____________|\n",
      "   \n",
      "It's Draw :( :(\n"
     ]
    }
   ],
   "source": [
    "play()"
   ]
  }
 ],
 "metadata": {
  "kernelspec": {
   "display_name": "Python 3",
   "language": "python",
   "name": "python3"
  },
  "language_info": {
   "codemirror_mode": {
    "name": "ipython",
    "version": 3
   },
   "file_extension": ".py",
   "mimetype": "text/x-python",
   "name": "python",
   "nbconvert_exporter": "python",
   "pygments_lexer": "ipython3",
   "version": "3.8.3"
  }
 },
 "nbformat": 4,
 "nbformat_minor": 4
}
